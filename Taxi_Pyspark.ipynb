{
 "cells": [
  {
   "cell_type": "markdown",
   "metadata": {
    "collapsed": true
   },
   "source": [
    "#                                                                                              深圳出租车轨迹数据分析"
   ]
  },
  {
   "cell_type": "markdown",
   "metadata": {},
   "source": [
    "## I. 数据准备"
   ]
  },
  {
   "cell_type": "code",
   "execution_count": 1,
   "metadata": {
    "collapsed": false
   },
   "outputs": [
    {
     "name": "stdout",
     "output_type": "stream",
     "text": [
      "<pyspark.context.SparkContext object at 0xafaad2ec>\n",
      "<pyspark.sql.context.SQLContext object at 0xafa79eec>\n"
     ]
    }
   ],
   "source": [
    "print sc\n",
    "print sqlContext"
   ]
  },
  {
   "cell_type": "code",
   "execution_count": 2,
   "metadata": {
    "collapsed": false
   },
   "outputs": [
    {
     "name": "stdout",
     "output_type": "stream",
     "text": [
      "['\\xe7\\xb2\\xa4B084C5', '20', '17', '114.075714', '22.53205', '0', '9.0', '9']\n"
     ]
    }
   ],
   "source": [
    "trackposRDD1 = sc.textFile('file:/mnt/hgfs/share/Final/I.FINAL-taxi/data/tpos.csv', use_unicode=False)\n",
    "tposrdd = trackposRDD1.map(lambda x: x.split(',')).map(lambda l: [x.strip('\"')for x in l])\n",
    "\n",
    "print tposrdd.first()"
   ]
  },
  {
   "cell_type": "markdown",
   "metadata": {
    "collapsed": true
   },
   "source": [
    "### Hive-Spark每车空驶率"
   ]
  },
  {
   "cell_type": "markdown",
   "metadata": {},
   "source": [
    "#### 计算公式"
   ]
  },
  {
   "cell_type": "code",
   "execution_count": 3,
   "metadata": {
    "collapsed": false
   },
   "outputs": [],
   "source": [
    "#haversine\n",
    "from math import pi,sqrt,sin,cos,atan2\n",
    "\n",
    "def distance(jd1, wd1, jd2, wd2):\n",
    "    lat1 = float(wd1)\n",
    "    long1 = float(jd1)\n",
    "    lat2 = float(wd2)\n",
    "    long2 = float(jd2)\n",
    "\n",
    "    degree_to_rad = float(pi / 180.0)\n",
    "\n",
    "    d_lat = (lat2 - lat1) * degree_to_rad\n",
    "    d_long = (long2 - long1) * degree_to_rad\n",
    "\n",
    "    a = pow(sin(d_lat / 2), 2) + cos(lat1 * degree_to_rad) * cos(lat2 * degree_to_rad) * pow(sin(d_long / 2), 2)\n",
    "    c = 2 * atan2(sqrt(a), sqrt(1 - a))\n",
    "    km = 6367 * c\n",
    "    #mi = 3956 * c\n",
    "\n",
    "    return km"
   ]
  },
  {
   "cell_type": "code",
   "execution_count": 4,
   "metadata": {
    "collapsed": false
   },
   "outputs": [
    {
     "name": "stdout",
     "output_type": "stream",
     "text": [
      "[114.118347, 22.57485, 114.134666, 22.5793]\n",
      "方法二结果：1.745968\n"
     ]
    }
   ],
   "source": [
    "aa = sc.parallelize((114.118347,22.574850,114.134666,22.579300))\n",
    "\n",
    "print aa.collect()\n",
    "print \"方法二结果：%f\" %distance(aa.collect()[0], aa.collect()[1], aa.collect()[2], aa.collect()[3])"
   ]
  },
  {
   "cell_type": "code",
   "execution_count": 5,
   "metadata": {
    "collapsed": false
   },
   "outputs": [],
   "source": [
    "#定义全局变量来报存缓存数据\n",
    "pre_name = ''\n",
    "pre_pos = []\n",
    "pre_status = None\n",
    "\n",
    "\n",
    "\n",
    "def rdd_dist(row):\n",
    "    #mark 缓存变量\n",
    "    global pre_name\n",
    "    global pre_pos\n",
    "    global pre_status\n",
    "       \n",
    "    # 格式转换( 如需)\n",
    "    row[0] = row[0][3:]\n",
    "    row[1] = int(row[1])\n",
    "    row[2] = int(row[2])\n",
    "    row[3] = float(row[3])\n",
    "    row[4] = float(row[4])\n",
    "    row[5] = int(row[5])\n",
    "    row[6] = float(0)\n",
    "    row[7] = int(row[7])\n",
    "    \n",
    "    #读第一行数据\n",
    "    if pre_name == '':\n",
    "        pre_name = row[0][1:]\n",
    "        pre_pos.append(row[3])\n",
    "        pre_pos.append(row[4])\n",
    "        pre_status = row[5]\n",
    "    \n",
    "    else:\n",
    "        #如果车牌和上一行一样时\n",
    "        if row[0] == pre_name:\n",
    "            row[6] = distance(pre_pos[0], pre_pos[1], row[3], row[4])\n",
    "            if (pre_status==0 and row[5]==1):\n",
    "                row[7] = 1\n",
    "            elif (pre_status==1 and row[5]==0):\n",
    "                row[7] = 0\n",
    "            else:\n",
    "                row[7] = 9\n",
    "        \n",
    "        #车牌不一样的时候\n",
    "        else:\n",
    "            row[7] = 9\n",
    "            \n",
    "    pre_name = row[0]\n",
    "    pre_pos[0] = row[3]\n",
    "    pre_pos[1] = row[4]\n",
    "    pre_status = row[5]\n",
    "    \n",
    "    return row"
   ]
  },
  {
   "cell_type": "code",
   "execution_count": 6,
   "metadata": {
    "collapsed": false
   },
   "outputs": [
    {
     "data": {
      "text/plain": [
       "[['B084C5', 20, 17, 114.075714, 22.53205, 0, 0.0, 9],\n",
       " ['B084C5', 20, 17, 114.07435, 22.532034, 0, 0.1400155501419869, 9],\n",
       " ['B084C5', 20, 17, 114.07283, 22.532017, 0, 0.15602793358091133, 9],\n",
       " ['B084C5', 20, 17, 114.0712, 22.53195, 0, 0.1674727976852836, 9],\n",
       " ['B084C5', 20, 17, 114.069786, 22.531982, 0, 0.14518001794977375, 9]]"
      ]
     },
     "execution_count": 6,
     "metadata": {},
     "output_type": "execute_result"
    }
   ],
   "source": [
    "#在tposRDD中Map\n",
    "dist_trdd = tposrdd.map(lambda row: rdd_dist(row))\n",
    "dist_trdd.take(5)"
   ]
  },
  {
   "cell_type": "code",
   "execution_count": null,
   "metadata": {
    "collapsed": false,
    "scrolled": true
   },
   "outputs": [],
   "source": [
    "#转DF\n",
    "tddf = dist_trdd.toDF()\n",
    "#print tddf.take(5)"
   ]
  },
  {
   "cell_type": "code",
   "execution_count": null,
   "metadata": {
    "collapsed": false
   },
   "outputs": [],
   "source": [
    "# dist_tdf.write.save(\"/mnt/hgfs/share/Final/I.FINAL-taxi/data/tddf.csv\")\n",
    "tddf.write.csv('/mnt/hgfs/share/Final/I.FINAL-taxi/data/tddf')  #写成csv保存"
   ]
  },
  {
   "cell_type": "markdown",
   "metadata": {},
   "source": [
    "## 2. 建模"
   ]
  },
  {
   "cell_type": "markdown",
   "metadata": {},
   "source": [
    "### a. 对此24列500行的数据进行K-means聚类分析（出租车画像）"
   ]
  },
  {
   "cell_type": "code",
   "execution_count": 2,
   "metadata": {
    "collapsed": false
   },
   "outputs": [
    {
     "name": "stdout",
     "output_type": "stream",
     "text": [
      "[u'\\u7ca4B000H6,19,22.186813186813186,13.583333333333334,0.0,0.0,0.0,0.0,0.0,15.647619047619047,20.37704918032787,14.208333333333334,12.709302325581396,37.87068965517241,9.0,11.82857142857143,21.826666666666668,16.46875,25.241071428571427,20.733333333333334,24.0,16.657894736842106,20.2,12.884615384615385,27.178861788617887,35.78151260504202']\n",
      "count: 8105\n",
      "[[u'22.186813186813186', u'13.583333333333334', u'0.0', u'0.0', u'0.0', u'0.0', u'0.0', u'15.647619047619047', u'20.37704918032787', u'14.208333333333334', u'12.709302325581396', u'37.87068965517241', u'9.0', u'11.82857142857143', u'21.826666666666668', u'16.46875', u'25.241071428571427', u'20.733333333333334', u'24.0', u'16.657894736842106', u'20.2', u'12.884615384615385', u'27.178861788617887', u'35.78151260504202']]\n",
      "[array([ 22.18681319,  13.58333333,   0.        ,   0.        ,\n",
      "         0.        ,   0.        ,   0.        ,  15.64761905,\n",
      "        20.37704918,  14.20833333,  12.70930233,  37.87068966,\n",
      "         9.        ,  11.82857143,  21.82666667,  16.46875   ,\n",
      "        25.24107143,  20.73333333,  24.        ,  16.65789474,\n",
      "        20.2       ,  12.88461538,  27.17886179,  35.78151261])]\n"
     ]
    }
   ],
   "source": [
    "from numpy import array\n",
    "from math import sqrt\n",
    "\n",
    "from pyspark.mllib.clustering import KMeans, KMeansModel\n",
    "\n",
    "# 载入并拆分\n",
    "data = sc.textFile(\"/mnt/hgfs/share/Final/I.FINAL-taxi/data/8105tx24.csv\")\n",
    "print data.take(1)\n",
    "print \"count: %d\" % data.count()\n",
    "parsedData1 = data.map(lambda line: line.split(',')[2:])\n",
    "print parsedData1.take(1)\n",
    "\n",
    "parsedData2 = parsedData1.map(lambda line: [float(x) for x in line])\n",
    "parsedData = parsedData2.map(lambda line: array(line))\n",
    "print parsedData.take(1)"
   ]
  },
  {
   "cell_type": "code",
   "execution_count": 3,
   "metadata": {
    "collapsed": false
   },
   "outputs": [
    {
     "name": "stderr",
     "output_type": "stream",
     "text": [
      "/home/hduser/spark/python/pyspark/mllib/clustering.py:347: UserWarning: The param `runs` has no effect since Spark 2.0.0.\n",
      "  warnings.warn(\"The param `runs` has no effect since Spark 2.0.0.\")\n"
     ]
    },
    {
     "name": "stdout",
     "output_type": "stream",
     "text": [
      "Within Set Sum of Squared Error = 373907.948481\n"
     ]
    }
   ],
   "source": [
    "# 建模\n",
    "clusters = KMeans.train(parsedData, 3, maxIterations=100,\n",
    "                        runs=10, initializationMode=\"random\")\n",
    "\n",
    "# 计算簇内平方误和\n",
    "def error(point):\n",
    "    center = clusters.centers[clusters.predict(point)]\n",
    "    return sqrt(sum([x**2 for x in (point - center)]))\n",
    "\n",
    "WSSSE = parsedData.map(lambda point: error(point)).reduce(lambda x, y: x + y)\n",
    "print(\"Within Set Sum of Squared Error = \" + str(WSSSE))"
   ]
  },
  {
   "cell_type": "code",
   "execution_count": 4,
   "metadata": {
    "collapsed": false
   },
   "outputs": [
    {
     "data": {
      "text/plain": [
       "[array([ 22.65754289,  18.00415824,  12.3452402 ,   6.79637473,\n",
       "          3.89924943,   4.43133736,  13.12593957,  20.1780669 ,\n",
       "         20.51155965,  22.42923722,  22.24616008,  22.65621975,\n",
       "         22.88530705,  23.73955093,  23.00248991,  22.94421944,\n",
       "         23.12028848,  20.9528366 ,  18.87422178,  22.05118186,\n",
       "         23.41677343,  25.0267626 ,  26.72922524,  26.65860033]),\n",
       " array([ 14.52819056,  11.39366009,   8.40842161,   6.58150136,\n",
       "          5.17566434,   5.41138599,   8.5636102 ,  12.67364775,\n",
       "         14.40709454,  15.40851587,  15.21779309,  14.93730583,\n",
       "         13.25351008,  13.72393094,  13.97508502,  13.90131806,\n",
       "         14.51883358,  14.23652891,  14.36478149,  16.62937653,\n",
       "         16.49122133,  16.86652887,  17.92250291,  16.8210132 ]),\n",
       " array([ 27.4930749 ,  26.10471661,  25.10509178,  22.94532422,\n",
       "         19.1332401 ,  20.91553209,  25.91297295,  22.09333918,\n",
       "         20.91681885,  22.78064041,  22.77665915,  23.4539887 ,\n",
       "         23.43518707,  23.97400248,  22.7506339 ,  22.8908593 ,\n",
       "         23.44956187,  21.65383282,  19.05341976,  22.2318886 ,\n",
       "         23.71375263,  25.1189399 ,  27.34536881,  27.57650189])]"
      ]
     },
     "execution_count": 4,
     "metadata": {},
     "output_type": "execute_result"
    }
   ],
   "source": [
    "a = clusters.centers\n",
    "print a\n",
    "a.as_matrix.to_csv"
   ]
  },
  {
   "cell_type": "code",
   "execution_count": 8,
   "metadata": {
    "collapsed": false
   },
   "outputs": [
    {
     "name": "stdout",
     "output_type": "stream",
     "text": [
      "K = 1 Cost = 22623489.9964\n",
      "K = 2 Cost = 19747020.034\n",
      "K = 3 Cost = 18535864.3115\n",
      "K = 4 Cost = 17869642.1187\n",
      "K = 5 Cost = 17361295.897\n",
      "K = 8 Cost = 16303029.7831\n",
      "K = 10 Cost = 15865568.8762\n"
     ]
    }
   ],
   "source": [
    "### K的选择\n",
    "def diff_k(K):\n",
    "    kmeans = KMeans.train(parsedData, K, maxIterations=100, runs=100,  \n",
    "                          initializationMode=\"random\")\n",
    "    print 'K =', K,  'Cost =', kmeans.computeCost(parsedData)\n",
    "    return kmeans.computeCost(parsedData)\n",
    "\n",
    "Ks = [1,2,3,4,5,8,10]\n",
    "Costs = [diff_k(i) for i in Ks]"
   ]
  },
  {
   "cell_type": "code",
   "execution_count": 9,
   "metadata": {
    "collapsed": false
   },
   "outputs": [
    {
     "data": {
      "image/png": "[encoded data removed]",
      "text/plain": [
       "<matplotlib.figure.Figure at 0xada4c90c>"
      ]
     },
     "metadata": {},
     "output_type": "display_data"
    }
   ],
   "source": [
    "import matplotlib.pyplot as plt\n",
    "plt.plot(Ks, Costs)\n",
    "plt.show()"
   ]
  },
  {
   "cell_type": "markdown",
   "metadata": {},
   "source": [
    "### C.根据各时段红岭北路上的出租车数量及即时速度，估计出整条路上汽车的平均速度"
   ]
  },
  {
   "cell_type": "code",
   "execution_count": 1,
   "metadata": {
    "collapsed": false
   },
   "outputs": [],
   "source": [
    "%matplotlib inline\n",
    "import os\n",
    "import pandas as pd\n",
    "import statsmodels.api as sm\n",
    "from statsmodels.formula.api import ols"
   ]
  },
  {
   "cell_type": "code",
   "execution_count": 2,
   "metadata": {
    "collapsed": false
   },
   "outputs": [
    {
     "data": {
      "text/html": [
       "<div>\n",
       "<table border=\"1\" class=\"dataframe\">\n",
       "  <thead>\n",
       "    <tr style=\"text-align: right;\">\n",
       "      <th></th>\n",
       "      <th>Time</th>\n",
       "      <th>cNum</th>\n",
       "      <th>V</th>\n",
       "      <th>weekend</th>\n",
       "      <th>avgV</th>\n",
       "    </tr>\n",
       "  </thead>\n",
       "  <tbody>\n",
       "    <tr>\n",
       "      <th>count</th>\n",
       "      <td>133082.000000</td>\n",
       "      <td>133082.000000</td>\n",
       "      <td>133082.000000</td>\n",
       "      <td>133082.000000</td>\n",
       "      <td>133082.000000</td>\n",
       "    </tr>\n",
       "    <tr>\n",
       "      <th>mean</th>\n",
       "      <td>12.027682</td>\n",
       "      <td>16.376174</td>\n",
       "      <td>25.929367</td>\n",
       "      <td>0.219361</td>\n",
       "      <td>15.369765</td>\n",
       "    </tr>\n",
       "    <tr>\n",
       "      <th>std</th>\n",
       "      <td>6.807519</td>\n",
       "      <td>6.047405</td>\n",
       "      <td>16.217447</td>\n",
       "      <td>0.413815</td>\n",
       "      <td>3.389650</td>\n",
       "    </tr>\n",
       "    <tr>\n",
       "      <th>min</th>\n",
       "      <td>0.000000</td>\n",
       "      <td>1.000000</td>\n",
       "      <td>1.000000</td>\n",
       "      <td>0.000000</td>\n",
       "      <td>9.645197</td>\n",
       "    </tr>\n",
       "    <tr>\n",
       "      <th>25%</th>\n",
       "      <td>7.000000</td>\n",
       "      <td>12.000000</td>\n",
       "      <td>13.000000</td>\n",
       "      <td>0.000000</td>\n",
       "      <td>12.397583</td>\n",
       "    </tr>\n",
       "    <tr>\n",
       "      <th>50%</th>\n",
       "      <td>12.000000</td>\n",
       "      <td>16.000000</td>\n",
       "      <td>24.000000</td>\n",
       "      <td>0.000000</td>\n",
       "      <td>14.906400</td>\n",
       "    </tr>\n",
       "    <tr>\n",
       "      <th>75%</th>\n",
       "      <td>17.000000</td>\n",
       "      <td>20.000000</td>\n",
       "      <td>37.000000</td>\n",
       "      <td>0.000000</td>\n",
       "      <td>18.551937</td>\n",
       "    </tr>\n",
       "    <tr>\n",
       "      <th>max</th>\n",
       "      <td>23.000000</td>\n",
       "      <td>45.000000</td>\n",
       "      <td>104.000000</td>\n",
       "      <td>1.000000</td>\n",
       "      <td>25.446000</td>\n",
       "    </tr>\n",
       "  </tbody>\n",
       "</table>\n",
       "</div>"
      ],
      "text/plain": [
       "                Time           cNum              V        weekend  \\\n",
       "count  133082.000000  133082.000000  133082.000000  133082.000000   \n",
       "mean       12.027682      16.376174      25.929367       0.219361   \n",
       "std         6.807519       6.047405      16.217447       0.413815   \n",
       "min         0.000000       1.000000       1.000000       0.000000   \n",
       "25%         7.000000      12.000000      13.000000       0.000000   \n",
       "50%        12.000000      16.000000      24.000000       0.000000   \n",
       "75%        17.000000      20.000000      37.000000       0.000000   \n",
       "max        23.000000      45.000000     104.000000       1.000000   \n",
       "\n",
       "                avgV  \n",
       "count  133082.000000  \n",
       "mean       15.369765  \n",
       "std         3.389650  \n",
       "min         9.645197  \n",
       "25%        12.397583  \n",
       "50%        14.906400  \n",
       "75%        18.551937  \n",
       "max        25.446000  "
      ]
     },
     "execution_count": 2,
     "metadata": {},
     "output_type": "execute_result"
    }
   ],
   "source": [
    "vlr = pd.read_csv('/mnt/hgfs/share/Final/I.FINAL-taxi/C.用经纬度，根据某时段某路上车数及即时速度，估计出整条路上汽车的平均速度/tvlr.csv',\\\n",
    "                  names=['Time', 'cNum', 'V', 'weekend', 'avgV'])\n",
    "\n",
    "vlr.describe(include='all')"
   ]
  },
  {
   "cell_type": "code",
   "execution_count": 3,
   "metadata": {
    "collapsed": false
   },
   "outputs": [],
   "source": [
    "#更改变量类型\n",
    "vlr['hh'] = vlr['Time'].astype('category', categories=\\\n",
    "                               [0,1,2,3,4,5,6,7,8,9,10,11,12,13,14,15,16,17,18,19,20,21,22,23], ordered=True)\n",
    "vlr['wk'] = vlr['weekend'].astype('category', categories=[0,1], ordered=False)"
   ]
  },
  {
   "cell_type": "markdown",
   "metadata": {},
   "source": [
    "#### 相关分析\n",
    "散点图"
   ]
  },
  {
   "cell_type": "code",
   "execution_count": 4,
   "metadata": {
    "collapsed": false,
    "scrolled": true
   },
   "outputs": [
    {
     "data": {
      "text/plain": [
       "<matplotlib.axes._subplots.AxesSubplot at 0xaa8ca10c>"
      ]
     },
     "execution_count": 4,
     "metadata": {},
     "output_type": "execute_result"
    },
    {
     "data": {
      "image/png": "[encoded data removed]",
      "text/plain": [
       "<matplotlib.figure.Figure at 0xaa8df68c>"
      ]
     },
     "metadata": {},
     "output_type": "display_data"
    }
   ],
   "source": [
    "vlr.plot('cNum', 'avgV', kind='scatter')"
   ]
  },
  {
   "cell_type": "markdown",
   "metadata": {},
   "source": [
    "#### 大致呈负相关"
   ]
  },
  {
   "cell_type": "code",
   "execution_count": 5,
   "metadata": {
    "collapsed": false
   },
   "outputs": [
    {
     "name": "stdout",
     "output_type": "stream",
     "text": [
      "          cNum      avgV\n",
      "cNum  1.000000 -0.471627\n",
      "avgV -0.471627  1.000000\n"
     ]
    }
   ],
   "source": [
    "print vlr[['cNum', 'avgV']].corr(method='pearson')"
   ]
  },
  {
   "cell_type": "markdown",
   "metadata": {},
   "source": [
    "#### 线性回归"
   ]
  },
  {
   "cell_type": "code",
   "execution_count": 6,
   "metadata": {
    "collapsed": false
   },
   "outputs": [
    {
     "data": {
      "text/plain": [
       "Intercept    19.698859\n",
       "cNum         -0.264353\n",
       "dtype: float64"
      ]
     },
     "execution_count": 6,
     "metadata": {},
     "output_type": "execute_result"
    }
   ],
   "source": [
    "vlm_s = ols('avgV ~ cNum', data=vlr).fit()\n",
    "vlm_s.params"
   ]
  },
  {
   "cell_type": "code",
   "execution_count": 7,
   "metadata": {
    "collapsed": false
   },
   "outputs": [
    {
     "data": {
      "text/html": [
       "<table class=\"simpletable\">\n",
       "<caption>OLS Regression Results</caption>\n",
       "<tr>\n",
       "  <th>Dep. Variable:</th>          <td>avgV</td>       <th>  R-squared:         </th>  <td>   0.222</td>  \n",
       "</tr>\n",
       "<tr>\n",
       "  <th>Model:</th>                   <td>OLS</td>       <th>  Adj. R-squared:    </th>  <td>   0.222</td>  \n",
       "</tr>\n",
       "<tr>\n",
       "  <th>Method:</th>             <td>Least Squares</td>  <th>  F-statistic:       </th>  <td>3.807e+04</td> \n",
       "</tr>\n",
       "<tr>\n",
       "  <th>Date:</th>             <td>Sun, 29 Jan 2017</td> <th>  Prob (F-statistic):</th>   <td>  0.00</td>   \n",
       "</tr>\n",
       "<tr>\n",
       "  <th>Time:</th>                 <td>00:58:40</td>     <th>  Log-Likelihood:    </th> <td>-3.3455e+05</td>\n",
       "</tr>\n",
       "<tr>\n",
       "  <th>No. Observations:</th>      <td>133082</td>      <th>  AIC:               </th>  <td>6.691e+05</td> \n",
       "</tr>\n",
       "<tr>\n",
       "  <th>Df Residuals:</th>          <td>133080</td>      <th>  BIC:               </th>  <td>6.691e+05</td> \n",
       "</tr>\n",
       "<tr>\n",
       "  <th>Df Model:</th>              <td>     1</td>      <th>                     </th>      <td> </td>     \n",
       "</tr>\n",
       "<tr>\n",
       "  <th>Covariance Type:</th>      <td>nonrobust</td>    <th>                     </th>      <td> </td>     \n",
       "</tr>\n",
       "</table>\n",
       "<table class=\"simpletable\">\n",
       "<tr>\n",
       "      <td></td>         <th>coef</th>     <th>std err</th>      <th>t</th>      <th>P>|t|</th> <th>[95.0% Conf. Int.]</th> \n",
       "</tr>\n",
       "<tr>\n",
       "  <th>Intercept</th> <td>   19.6989</td> <td>    0.024</td> <td>  832.858</td> <td> 0.000</td> <td>   19.653    19.745</td>\n",
       "</tr>\n",
       "<tr>\n",
       "  <th>cNum</th>      <td>   -0.2644</td> <td>    0.001</td> <td> -195.113</td> <td> 0.000</td> <td>   -0.267    -0.262</td>\n",
       "</tr>\n",
       "</table>\n",
       "<table class=\"simpletable\">\n",
       "<tr>\n",
       "  <th>Omnibus:</th>       <td>9361.227</td> <th>  Durbin-Watson:     </th> <td>   0.012</td>\n",
       "</tr>\n",
       "<tr>\n",
       "  <th>Prob(Omnibus):</th>  <td> 0.000</td>  <th>  Jarque-Bera (JB):  </th> <td>4528.469</td>\n",
       "</tr>\n",
       "<tr>\n",
       "  <th>Skew:</th>           <td> 0.273</td>  <th>  Prob(JB):          </th> <td>    0.00</td>\n",
       "</tr>\n",
       "<tr>\n",
       "  <th>Kurtosis:</th>       <td> 2.279</td>  <th>  Cond. No.          </th> <td>    50.5</td>\n",
       "</tr>\n",
       "</table>"
      ],
      "text/plain": [
       "<class 'statsmodels.iolib.summary.Summary'>\n",
       "\"\"\"\n",
       "                            OLS Regression Results                            \n",
       "==============================================================================\n",
       "Dep. Variable:                   avgV   R-squared:                       0.222\n",
       "Model:                            OLS   Adj. R-squared:                  0.222\n",
       "Method:                 Least Squares   F-statistic:                 3.807e+04\n",
       "Date:                Sun, 29 Jan 2017   Prob (F-statistic):               0.00\n",
       "Time:                        00:58:40   Log-Likelihood:            -3.3455e+05\n",
       "No. Observations:              133082   AIC:                         6.691e+05\n",
       "Df Residuals:                  133080   BIC:                         6.691e+05\n",
       "Df Model:                           1                                         \n",
       "Covariance Type:            nonrobust                                         \n",
       "==============================================================================\n",
       "                 coef    std err          t      P>|t|      [95.0% Conf. Int.]\n",
       "------------------------------------------------------------------------------\n",
       "Intercept     19.6989      0.024    832.858      0.000        19.653    19.745\n",
       "cNum          -0.2644      0.001   -195.113      0.000        -0.267    -0.262\n",
       "==============================================================================\n",
       "Omnibus:                     9361.227   Durbin-Watson:                   0.012\n",
       "Prob(Omnibus):                  0.000   Jarque-Bera (JB):             4528.469\n",
       "Skew:                           0.273   Prob(JB):                         0.00\n",
       "Kurtosis:                       2.279   Cond. No.                         50.5\n",
       "==============================================================================\n",
       "\n",
       "Warnings:\n",
       "[1] Standard Errors assume that the covariance matrix of the errors is correctly specified.\n",
       "\"\"\""
      ]
     },
     "execution_count": 7,
     "metadata": {},
     "output_type": "execute_result"
    }
   ],
   "source": [
    "vlm_s.summary()"
   ]
  },
  {
   "cell_type": "markdown",
   "metadata": {},
   "source": [
    "#### 多元线性回归"
   ]
  },
  {
   "cell_type": "code",
   "execution_count": 8,
   "metadata": {
    "collapsed": false
   },
   "outputs": [
    {
     "data": {
      "text/plain": [
       "Intercept        19.447102\n",
       "hh[T.1]          -0.514156\n",
       "hh[T.2]          -1.452062\n",
       "hh[T.3]          -1.115097\n",
       "hh[T.4]          -0.110153\n",
       "hh[T.5]           3.153014\n",
       "hh[T.6]           0.273346\n",
       "hh[T.7]          -1.672136\n",
       "hh[T.8]          -4.206878\n",
       "hh[T.9]          -5.576066\n",
       "hh[T.10]         -5.739615\n",
       "hh[T.11]         -7.530608\n",
       "hh[T.12]         -6.406520\n",
       "hh[T.13]         -5.599786\n",
       "hh[T.14]         -6.609079\n",
       "hh[T.15]         -7.742921\n",
       "hh[T.16]         -7.704232\n",
       "hh[T.17]         -7.681073\n",
       "hh[T.18]         -6.504217\n",
       "hh[T.19]         -4.622346\n",
       "hh[T.20]         -2.545579\n",
       "hh[T.21]         -1.183623\n",
       "hh[T.22]         -0.272743\n",
       "hh[T.23]         -0.320053\n",
       "wk[T.1]           0.474739\n",
       "cNum             -0.034659\n",
       "cNum:hh[T.1]     -0.004691\n",
       "cNum:hh[T.2]      0.098787\n",
       "cNum:hh[T.3]      0.062863\n",
       "cNum:hh[T.4]     -0.135010\n",
       "cNum:hh[T.5]     -0.339948\n",
       "cNum:hh[T.6]     -0.018211\n",
       "cNum:hh[T.7]     -0.052557\n",
       "cNum:hh[T.8]     -0.024630\n",
       "cNum:hh[T.9]      0.006658\n",
       "cNum:hh[T.10]    -0.011271\n",
       "cNum:hh[T.11]     0.038986\n",
       "cNum:hh[T.12]     0.031046\n",
       "cNum:hh[T.13]    -0.001396\n",
       "cNum:hh[T.14]    -0.003271\n",
       "cNum:hh[T.15]     0.009181\n",
       "cNum:hh[T.16]     0.026631\n",
       "cNum:hh[T.17]    -0.001355\n",
       "cNum:hh[T.18]     0.002647\n",
       "cNum:hh[T.19]     0.077021\n",
       "cNum:hh[T.20]     0.083935\n",
       "cNum:hh[T.21]     0.030363\n",
       "cNum:hh[T.22]     0.021783\n",
       "cNum:hh[T.23]     0.063391\n",
       "V                 0.002109\n",
       "dtype: float64"
      ]
     },
     "execution_count": 8,
     "metadata": {},
     "output_type": "execute_result"
    }
   ],
   "source": [
    "vlm_m = ols('avgV ~ hh + cNum + V + wk + cNum*hh', data=vlr).fit()\n",
    "vlm_m.params"
   ]
  },
  {
   "cell_type": "code",
   "execution_count": 9,
   "metadata": {
    "collapsed": false
   },
   "outputs": [
    {
     "data": {
      "text/html": [
       "<table class=\"simpletable\">\n",
       "<caption>OLS Regression Results</caption>\n",
       "<tr>\n",
       "  <th>Dep. Variable:</th>          <td>avgV</td>       <th>  R-squared:         </th>  <td>   0.876</td>  \n",
       "</tr>\n",
       "<tr>\n",
       "  <th>Model:</th>                   <td>OLS</td>       <th>  Adj. R-squared:    </th>  <td>   0.876</td>  \n",
       "</tr>\n",
       "<tr>\n",
       "  <th>Method:</th>             <td>Least Squares</td>  <th>  F-statistic:       </th>  <td>1.916e+04</td> \n",
       "</tr>\n",
       "<tr>\n",
       "  <th>Date:</th>             <td>Sun, 29 Jan 2017</td> <th>  Prob (F-statistic):</th>   <td>  0.00</td>   \n",
       "</tr>\n",
       "<tr>\n",
       "  <th>Time:</th>                 <td>00:58:52</td>     <th>  Log-Likelihood:    </th> <td>-2.1244e+05</td>\n",
       "</tr>\n",
       "<tr>\n",
       "  <th>No. Observations:</th>      <td>133082</td>      <th>  AIC:               </th>  <td>4.250e+05</td> \n",
       "</tr>\n",
       "<tr>\n",
       "  <th>Df Residuals:</th>          <td>133032</td>      <th>  BIC:               </th>  <td>4.255e+05</td> \n",
       "</tr>\n",
       "<tr>\n",
       "  <th>Df Model:</th>              <td>    49</td>      <th>                     </th>      <td> </td>     \n",
       "</tr>\n",
       "<tr>\n",
       "  <th>Covariance Type:</th>      <td>nonrobust</td>    <th>                     </th>      <td> </td>     \n",
       "</tr>\n",
       "</table>\n",
       "<table class=\"simpletable\">\n",
       "<tr>\n",
       "        <td></td>           <th>coef</th>     <th>std err</th>      <th>t</th>      <th>P>|t|</th> <th>[95.0% Conf. Int.]</th> \n",
       "</tr>\n",
       "<tr>\n",
       "  <th>Intercept</th>     <td>   19.4471</td> <td>    0.062</td> <td>  315.997</td> <td> 0.000</td> <td>   19.326    19.568</td>\n",
       "</tr>\n",
       "<tr>\n",
       "  <th>hh[T.1]</th>       <td>   -0.5142</td> <td>    0.085</td> <td>   -6.029</td> <td> 0.000</td> <td>   -0.681    -0.347</td>\n",
       "</tr>\n",
       "<tr>\n",
       "  <th>hh[T.2]</th>       <td>   -1.4521</td> <td>    0.088</td> <td>  -16.580</td> <td> 0.000</td> <td>   -1.624    -1.280</td>\n",
       "</tr>\n",
       "<tr>\n",
       "  <th>hh[T.3]</th>       <td>   -1.1151</td> <td>    0.090</td> <td>  -12.377</td> <td> 0.000</td> <td>   -1.292    -0.939</td>\n",
       "</tr>\n",
       "<tr>\n",
       "  <th>hh[T.4]</th>       <td>   -0.1102</td> <td>    0.090</td> <td>   -1.218</td> <td> 0.223</td> <td>   -0.287     0.067</td>\n",
       "</tr>\n",
       "<tr>\n",
       "  <th>hh[T.5]</th>       <td>    3.1530</td> <td>    0.090</td> <td>   35.199</td> <td> 0.000</td> <td>    2.977     3.329</td>\n",
       "</tr>\n",
       "<tr>\n",
       "  <th>hh[T.6]</th>       <td>    0.2733</td> <td>    0.087</td> <td>    3.139</td> <td> 0.002</td> <td>    0.103     0.444</td>\n",
       "</tr>\n",
       "<tr>\n",
       "  <th>hh[T.7]</th>       <td>   -1.6721</td> <td>    0.082</td> <td>  -20.327</td> <td> 0.000</td> <td>   -1.833    -1.511</td>\n",
       "</tr>\n",
       "<tr>\n",
       "  <th>hh[T.8]</th>       <td>   -4.2069</td> <td>    0.083</td> <td>  -50.752</td> <td> 0.000</td> <td>   -4.369    -4.044</td>\n",
       "</tr>\n",
       "<tr>\n",
       "  <th>hh[T.9]</th>       <td>   -5.5761</td> <td>    0.084</td> <td>  -66.215</td> <td> 0.000</td> <td>   -5.741    -5.411</td>\n",
       "</tr>\n",
       "<tr>\n",
       "  <th>hh[T.10]</th>      <td>   -5.7396</td> <td>    0.085</td> <td>  -67.435</td> <td> 0.000</td> <td>   -5.906    -5.573</td>\n",
       "</tr>\n",
       "<tr>\n",
       "  <th>hh[T.11]</th>      <td>   -7.5306</td> <td>    0.086</td> <td>  -87.668</td> <td> 0.000</td> <td>   -7.699    -7.362</td>\n",
       "</tr>\n",
       "<tr>\n",
       "  <th>hh[T.12]</th>      <td>   -6.4065</td> <td>    0.086</td> <td>  -74.426</td> <td> 0.000</td> <td>   -6.575    -6.238</td>\n",
       "</tr>\n",
       "<tr>\n",
       "  <th>hh[T.13]</th>      <td>   -5.5998</td> <td>    0.088</td> <td>  -63.875</td> <td> 0.000</td> <td>   -5.772    -5.428</td>\n",
       "</tr>\n",
       "<tr>\n",
       "  <th>hh[T.14]</th>      <td>   -6.6091</td> <td>    0.083</td> <td>  -79.835</td> <td> 0.000</td> <td>   -6.771    -6.447</td>\n",
       "</tr>\n",
       "<tr>\n",
       "  <th>hh[T.15]</th>      <td>   -7.7429</td> <td>    0.080</td> <td>  -96.768</td> <td> 0.000</td> <td>   -7.900    -7.586</td>\n",
       "</tr>\n",
       "<tr>\n",
       "  <th>hh[T.16]</th>      <td>   -7.7042</td> <td>    0.086</td> <td>  -89.089</td> <td> 0.000</td> <td>   -7.874    -7.535</td>\n",
       "</tr>\n",
       "<tr>\n",
       "  <th>hh[T.17]</th>      <td>   -7.6811</td> <td>    0.087</td> <td>  -88.054</td> <td> 0.000</td> <td>   -7.852    -7.510</td>\n",
       "</tr>\n",
       "<tr>\n",
       "  <th>hh[T.18]</th>      <td>   -6.5042</td> <td>    0.079</td> <td>  -81.895</td> <td> 0.000</td> <td>   -6.660    -6.349</td>\n",
       "</tr>\n",
       "<tr>\n",
       "  <th>hh[T.19]</th>      <td>   -4.6223</td> <td>    0.090</td> <td>  -51.491</td> <td> 0.000</td> <td>   -4.798    -4.446</td>\n",
       "</tr>\n",
       "<tr>\n",
       "  <th>hh[T.20]</th>      <td>   -2.5456</td> <td>    0.084</td> <td>  -30.241</td> <td> 0.000</td> <td>   -2.711    -2.381</td>\n",
       "</tr>\n",
       "<tr>\n",
       "  <th>hh[T.21]</th>      <td>   -1.1836</td> <td>    0.084</td> <td>  -14.170</td> <td> 0.000</td> <td>   -1.347    -1.020</td>\n",
       "</tr>\n",
       "<tr>\n",
       "  <th>hh[T.22]</th>      <td>   -0.2727</td> <td>    0.084</td> <td>   -3.229</td> <td> 0.001</td> <td>   -0.438    -0.107</td>\n",
       "</tr>\n",
       "<tr>\n",
       "  <th>hh[T.23]</th>      <td>   -0.3201</td> <td>    0.090</td> <td>   -3.575</td> <td> 0.000</td> <td>   -0.496    -0.145</td>\n",
       "</tr>\n",
       "<tr>\n",
       "  <th>wk[T.1]</th>       <td>    0.4747</td> <td>    0.008</td> <td>   58.502</td> <td> 0.000</td> <td>    0.459     0.491</td>\n",
       "</tr>\n",
       "<tr>\n",
       "  <th>cNum</th>          <td>   -0.0347</td> <td>    0.004</td> <td>   -9.573</td> <td> 0.000</td> <td>   -0.042    -0.028</td>\n",
       "</tr>\n",
       "<tr>\n",
       "  <th>cNum:hh[T.1]</th>  <td>   -0.0047</td> <td>    0.005</td> <td>   -0.888</td> <td> 0.374</td> <td>   -0.015     0.006</td>\n",
       "</tr>\n",
       "<tr>\n",
       "  <th>cNum:hh[T.2]</th>  <td>    0.0988</td> <td>    0.006</td> <td>   16.354</td> <td> 0.000</td> <td>    0.087     0.111</td>\n",
       "</tr>\n",
       "<tr>\n",
       "  <th>cNum:hh[T.3]</th>  <td>    0.0629</td> <td>    0.008</td> <td>    8.333</td> <td> 0.000</td> <td>    0.048     0.078</td>\n",
       "</tr>\n",
       "<tr>\n",
       "  <th>cNum:hh[T.4]</th>  <td>   -0.1350</td> <td>    0.009</td> <td>  -15.316</td> <td> 0.000</td> <td>   -0.152    -0.118</td>\n",
       "</tr>\n",
       "<tr>\n",
       "  <th>cNum:hh[T.5]</th>  <td>   -0.3399</td> <td>    0.009</td> <td>  -36.819</td> <td> 0.000</td> <td>   -0.358    -0.322</td>\n",
       "</tr>\n",
       "<tr>\n",
       "  <th>cNum:hh[T.6]</th>  <td>   -0.0182</td> <td>    0.008</td> <td>   -2.291</td> <td> 0.022</td> <td>   -0.034    -0.003</td>\n",
       "</tr>\n",
       "<tr>\n",
       "  <th>cNum:hh[T.7]</th>  <td>   -0.0526</td> <td>    0.006</td> <td>   -9.503</td> <td> 0.000</td> <td>   -0.063    -0.042</td>\n",
       "</tr>\n",
       "<tr>\n",
       "  <th>cNum:hh[T.8]</th>  <td>   -0.0246</td> <td>    0.005</td> <td>   -4.864</td> <td> 0.000</td> <td>   -0.035    -0.015</td>\n",
       "</tr>\n",
       "<tr>\n",
       "  <th>cNum:hh[T.9]</th>  <td>    0.0067</td> <td>    0.005</td> <td>    1.310</td> <td> 0.190</td> <td>   -0.003     0.017</td>\n",
       "</tr>\n",
       "<tr>\n",
       "  <th>cNum:hh[T.10]</th> <td>   -0.0113</td> <td>    0.005</td> <td>   -2.287</td> <td> 0.022</td> <td>   -0.021    -0.002</td>\n",
       "</tr>\n",
       "<tr>\n",
       "  <th>cNum:hh[T.11]</th> <td>    0.0390</td> <td>    0.005</td> <td>    8.338</td> <td> 0.000</td> <td>    0.030     0.048</td>\n",
       "</tr>\n",
       "<tr>\n",
       "  <th>cNum:hh[T.12]</th> <td>    0.0310</td> <td>    0.005</td> <td>    6.336</td> <td> 0.000</td> <td>    0.021     0.041</td>\n",
       "</tr>\n",
       "<tr>\n",
       "  <th>cNum:hh[T.13]</th> <td>   -0.0014</td> <td>    0.005</td> <td>   -0.288</td> <td> 0.773</td> <td>   -0.011     0.008</td>\n",
       "</tr>\n",
       "<tr>\n",
       "  <th>cNum:hh[T.14]</th> <td>   -0.0033</td> <td>    0.004</td> <td>   -0.748</td> <td> 0.455</td> <td>   -0.012     0.005</td>\n",
       "</tr>\n",
       "<tr>\n",
       "  <th>cNum:hh[T.15]</th> <td>    0.0092</td> <td>    0.004</td> <td>    2.207</td> <td> 0.027</td> <td>    0.001     0.017</td>\n",
       "</tr>\n",
       "<tr>\n",
       "  <th>cNum:hh[T.16]</th> <td>    0.0266</td> <td>    0.005</td> <td>    5.612</td> <td> 0.000</td> <td>    0.017     0.036</td>\n",
       "</tr>\n",
       "<tr>\n",
       "  <th>cNum:hh[T.17]</th> <td>   -0.0014</td> <td>    0.005</td> <td>   -0.290</td> <td> 0.772</td> <td>   -0.011     0.008</td>\n",
       "</tr>\n",
       "<tr>\n",
       "  <th>cNum:hh[T.18]</th> <td>    0.0026</td> <td>    0.005</td> <td>    0.556</td> <td> 0.578</td> <td>   -0.007     0.012</td>\n",
       "</tr>\n",
       "<tr>\n",
       "  <th>cNum:hh[T.19]</th> <td>    0.0770</td> <td>    0.006</td> <td>   12.144</td> <td> 0.000</td> <td>    0.065     0.089</td>\n",
       "</tr>\n",
       "<tr>\n",
       "  <th>cNum:hh[T.20]</th> <td>    0.0839</td> <td>    0.005</td> <td>   15.479</td> <td> 0.000</td> <td>    0.073     0.095</td>\n",
       "</tr>\n",
       "<tr>\n",
       "  <th>cNum:hh[T.21]</th> <td>    0.0304</td> <td>    0.005</td> <td>    6.011</td> <td> 0.000</td> <td>    0.020     0.040</td>\n",
       "</tr>\n",
       "<tr>\n",
       "  <th>cNum:hh[T.22]</th> <td>    0.0218</td> <td>    0.005</td> <td>    4.440</td> <td> 0.000</td> <td>    0.012     0.031</td>\n",
       "</tr>\n",
       "<tr>\n",
       "  <th>cNum:hh[T.23]</th> <td>    0.0634</td> <td>    0.005</td> <td>   11.955</td> <td> 0.000</td> <td>    0.053     0.074</td>\n",
       "</tr>\n",
       "<tr>\n",
       "  <th>V</th>             <td>    0.0021</td> <td>    0.000</td> <td>   10.230</td> <td> 0.000</td> <td>    0.002     0.003</td>\n",
       "</tr>\n",
       "</table>\n",
       "<table class=\"simpletable\">\n",
       "<tr>\n",
       "  <th>Omnibus:</th>       <td>7542.163</td> <th>  Durbin-Watson:     </th> <td>   0.008</td> \n",
       "</tr>\n",
       "<tr>\n",
       "  <th>Prob(Omnibus):</th>  <td> 0.000</td>  <th>  Jarque-Bera (JB):  </th> <td>31169.578</td>\n",
       "</tr>\n",
       "<tr>\n",
       "  <th>Skew:</th>           <td>-0.087</td>  <th>  Prob(JB):          </th> <td>    0.00</td> \n",
       "</tr>\n",
       "<tr>\n",
       "  <th>Kurtosis:</th>       <td> 5.365</td>  <th>  Cond. No.          </th> <td>3.17e+03</td> \n",
       "</tr>\n",
       "</table>"
      ],
      "text/plain": [
       "<class 'statsmodels.iolib.summary.Summary'>\n",
       "\"\"\"\n",
       "                            OLS Regression Results                            \n",
       "==============================================================================\n",
       "Dep. Variable:                   avgV   R-squared:                       0.876\n",
       "Model:                            OLS   Adj. R-squared:                  0.876\n",
       "Method:                 Least Squares   F-statistic:                 1.916e+04\n",
       "Date:                Sun, 29 Jan 2017   Prob (F-statistic):               0.00\n",
       "Time:                        00:58:52   Log-Likelihood:            -2.1244e+05\n",
       "No. Observations:              133082   AIC:                         4.250e+05\n",
       "Df Residuals:                  133032   BIC:                         4.255e+05\n",
       "Df Model:                          49                                         \n",
       "Covariance Type:            nonrobust                                         \n",
       "=================================================================================\n",
       "                    coef    std err          t      P>|t|      [95.0% Conf. Int.]\n",
       "---------------------------------------------------------------------------------\n",
       "Intercept        19.4471      0.062    315.997      0.000        19.326    19.568\n",
       "hh[T.1]          -0.5142      0.085     -6.029      0.000        -0.681    -0.347\n",
       "hh[T.2]          -1.4521      0.088    -16.580      0.000        -1.624    -1.280\n",
       "hh[T.3]          -1.1151      0.090    -12.377      0.000        -1.292    -0.939\n",
       "hh[T.4]          -0.1102      0.090     -1.218      0.223        -0.287     0.067\n",
       "hh[T.5]           3.1530      0.090     35.199      0.000         2.977     3.329\n",
       "hh[T.6]           0.2733      0.087      3.139      0.002         0.103     0.444\n",
       "hh[T.7]          -1.6721      0.082    -20.327      0.000        -1.833    -1.511\n",
       "hh[T.8]          -4.2069      0.083    -50.752      0.000        -4.369    -4.044\n",
       "hh[T.9]          -5.5761      0.084    -66.215      0.000        -5.741    -5.411\n",
       "hh[T.10]         -5.7396      0.085    -67.435      0.000        -5.906    -5.573\n",
       "hh[T.11]         -7.5306      0.086    -87.668      0.000        -7.699    -7.362\n",
       "hh[T.12]         -6.4065      0.086    -74.426      0.000        -6.575    -6.238\n",
       "hh[T.13]         -5.5998      0.088    -63.875      0.000        -5.772    -5.428\n",
       "hh[T.14]         -6.6091      0.083    -79.835      0.000        -6.771    -6.447\n",
       "hh[T.15]         -7.7429      0.080    -96.768      0.000        -7.900    -7.586\n",
       "hh[T.16]         -7.7042      0.086    -89.089      0.000        -7.874    -7.535\n",
       "hh[T.17]         -7.6811      0.087    -88.054      0.000        -7.852    -7.510\n",
       "hh[T.18]         -6.5042      0.079    -81.895      0.000        -6.660    -6.349\n",
       "hh[T.19]         -4.6223      0.090    -51.491      0.000        -4.798    -4.446\n",
       "hh[T.20]         -2.5456      0.084    -30.241      0.000        -2.711    -2.381\n",
       "hh[T.21]         -1.1836      0.084    -14.170      0.000        -1.347    -1.020\n",
       "hh[T.22]         -0.2727      0.084     -3.229      0.001        -0.438    -0.107\n",
       "hh[T.23]         -0.3201      0.090     -3.575      0.000        -0.496    -0.145\n",
       "wk[T.1]           0.4747      0.008     58.502      0.000         0.459     0.491\n",
       "cNum             -0.0347      0.004     -9.573      0.000        -0.042    -0.028\n",
       "cNum:hh[T.1]     -0.0047      0.005     -0.888      0.374        -0.015     0.006\n",
       "cNum:hh[T.2]      0.0988      0.006     16.354      0.000         0.087     0.111\n",
       "cNum:hh[T.3]      0.0629      0.008      8.333      0.000         0.048     0.078\n",
       "cNum:hh[T.4]     -0.1350      0.009    -15.316      0.000        -0.152    -0.118\n",
       "cNum:hh[T.5]     -0.3399      0.009    -36.819      0.000        -0.358    -0.322\n",
       "cNum:hh[T.6]     -0.0182      0.008     -2.291      0.022        -0.034    -0.003\n",
       "cNum:hh[T.7]     -0.0526      0.006     -9.503      0.000        -0.063    -0.042\n",
       "cNum:hh[T.8]     -0.0246      0.005     -4.864      0.000        -0.035    -0.015\n",
       "cNum:hh[T.9]      0.0067      0.005      1.310      0.190        -0.003     0.017\n",
       "cNum:hh[T.10]    -0.0113      0.005     -2.287      0.022        -0.021    -0.002\n",
       "cNum:hh[T.11]     0.0390      0.005      8.338      0.000         0.030     0.048\n",
       "cNum:hh[T.12]     0.0310      0.005      6.336      0.000         0.021     0.041\n",
       "cNum:hh[T.13]    -0.0014      0.005     -0.288      0.773        -0.011     0.008\n",
       "cNum:hh[T.14]    -0.0033      0.004     -0.748      0.455        -0.012     0.005\n",
       "cNum:hh[T.15]     0.0092      0.004      2.207      0.027         0.001     0.017\n",
       "cNum:hh[T.16]     0.0266      0.005      5.612      0.000         0.017     0.036\n",
       "cNum:hh[T.17]    -0.0014      0.005     -0.290      0.772        -0.011     0.008\n",
       "cNum:hh[T.18]     0.0026      0.005      0.556      0.578        -0.007     0.012\n",
       "cNum:hh[T.19]     0.0770      0.006     12.144      0.000         0.065     0.089\n",
       "cNum:hh[T.20]     0.0839      0.005     15.479      0.000         0.073     0.095\n",
       "cNum:hh[T.21]     0.0304      0.005      6.011      0.000         0.020     0.040\n",
       "cNum:hh[T.22]     0.0218      0.005      4.440      0.000         0.012     0.031\n",
       "cNum:hh[T.23]     0.0634      0.005     11.955      0.000         0.053     0.074\n",
       "V                 0.0021      0.000     10.230      0.000         0.002     0.003\n",
       "==============================================================================\n",
       "Omnibus:                     7542.163   Durbin-Watson:                   0.008\n",
       "Prob(Omnibus):                  0.000   Jarque-Bera (JB):            31169.578\n",
       "Skew:                          -0.087   Prob(JB):                         0.00\n",
       "Kurtosis:                       5.365   Cond. No.                     3.17e+03\n",
       "==============================================================================\n",
       "\n",
       "Warnings:\n",
       "[1] Standard Errors assume that the covariance matrix of the errors is correctly specified.\n",
       "[2] The condition number is large, 3.17e+03. This might indicate that there are\n",
       "strong multicollinearity or other numerical problems.\n",
       "\"\"\""
      ]
     },
     "execution_count": 9,
     "metadata": {},
     "output_type": "execute_result"
    }
   ],
   "source": [
    "vlm_m.summary()"
   ]
  },
  {
   "cell_type": "code",
   "execution_count": 10,
   "metadata": {
    "collapsed": true
   },
   "outputs": [],
   "source": [
    "?vlm_m.predict()"
   ]
  },
  {
   "cell_type": "markdown",
   "metadata": {},
   "source": [
    "#### 线性回归的诊断\n",
    "#### 残差分析"
   ]
  },
  {
   "cell_type": "code",
   "execution_count": 21,
   "metadata": {
    "collapsed": false
   },
   "outputs": [
    {
     "name": "stdout",
     "output_type": "stream",
     "text": [
      "   Time  cNum   V  weekend       avgV hh wk  Pred_avgV  resid_avgV\n",
      "0     0    15  12        0  18.742605  0  0  15.733561    3.009044\n",
      "1     0    15  18        0  18.742605  0  0  15.733561    3.009044\n",
      "2     0    15  20        0  18.742605  0  0  15.733561    3.009044\n",
      "3     0    15  21        0  18.742605  0  0  15.733561    3.009044\n",
      "4     0    15  24        0  18.742605  0  0  15.733561    3.009044\n"
     ]
    },
    {
     "data": {
      "text/html": [
       "<table class=\"simpletable\">\n",
       "<caption>OLS Regression Results</caption>\n",
       "<tr>\n",
       "  <th>Dep. Variable:</th>          <td>avgV</td>       <th>  R-squared:         </th>  <td>   0.222</td>  \n",
       "</tr>\n",
       "<tr>\n",
       "  <th>Model:</th>                   <td>OLS</td>       <th>  Adj. R-squared:    </th>  <td>   0.222</td>  \n",
       "</tr>\n",
       "<tr>\n",
       "  <th>Method:</th>             <td>Least Squares</td>  <th>  F-statistic:       </th>  <td>3.807e+04</td> \n",
       "</tr>\n",
       "<tr>\n",
       "  <th>Date:</th>             <td>Thu, 26 Jan 2017</td> <th>  Prob (F-statistic):</th>   <td>  0.00</td>   \n",
       "</tr>\n",
       "<tr>\n",
       "  <th>Time:</th>                 <td>21:31:49</td>     <th>  Log-Likelihood:    </th> <td>-3.3455e+05</td>\n",
       "</tr>\n",
       "<tr>\n",
       "  <th>No. Observations:</th>      <td>133082</td>      <th>  AIC:               </th>  <td>6.691e+05</td> \n",
       "</tr>\n",
       "<tr>\n",
       "  <th>Df Residuals:</th>          <td>133080</td>      <th>  BIC:               </th>  <td>6.691e+05</td> \n",
       "</tr>\n",
       "<tr>\n",
       "  <th>Df Model:</th>              <td>     1</td>      <th>                     </th>      <td> </td>     \n",
       "</tr>\n",
       "<tr>\n",
       "  <th>Covariance Type:</th>      <td>nonrobust</td>    <th>                     </th>      <td> </td>     \n",
       "</tr>\n",
       "</table>\n",
       "<table class=\"simpletable\">\n",
       "<tr>\n",
       "      <td></td>         <th>coef</th>     <th>std err</th>      <th>t</th>      <th>P>|t|</th> <th>[95.0% Conf. Int.]</th> \n",
       "</tr>\n",
       "<tr>\n",
       "  <th>Intercept</th> <td>   19.6989</td> <td>    0.024</td> <td>  832.858</td> <td> 0.000</td> <td>   19.653    19.745</td>\n",
       "</tr>\n",
       "<tr>\n",
       "  <th>cNum</th>      <td>   -0.2644</td> <td>    0.001</td> <td> -195.113</td> <td> 0.000</td> <td>   -0.267    -0.262</td>\n",
       "</tr>\n",
       "</table>\n",
       "<table class=\"simpletable\">\n",
       "<tr>\n",
       "  <th>Omnibus:</th>       <td>9361.227</td> <th>  Durbin-Watson:     </th> <td>   0.012</td>\n",
       "</tr>\n",
       "<tr>\n",
       "  <th>Prob(Omnibus):</th>  <td> 0.000</td>  <th>  Jarque-Bera (JB):  </th> <td>4528.469</td>\n",
       "</tr>\n",
       "<tr>\n",
       "  <th>Skew:</th>           <td> 0.273</td>  <th>  Prob(JB):          </th> <td>    0.00</td>\n",
       "</tr>\n",
       "<tr>\n",
       "  <th>Kurtosis:</th>       <td> 2.279</td>  <th>  Cond. No.          </th> <td>    50.5</td>\n",
       "</tr>\n",
       "</table>"
      ],
      "text/plain": [
       "<class 'statsmodels.iolib.summary.Summary'>\n",
       "\"\"\"\n",
       "                            OLS Regression Results                            \n",
       "==============================================================================\n",
       "Dep. Variable:                   avgV   R-squared:                       0.222\n",
       "Model:                            OLS   Adj. R-squared:                  0.222\n",
       "Method:                 Least Squares   F-statistic:                 3.807e+04\n",
       "Date:                Thu, 26 Jan 2017   Prob (F-statistic):               0.00\n",
       "Time:                        21:31:49   Log-Likelihood:            -3.3455e+05\n",
       "No. Observations:              133082   AIC:                         6.691e+05\n",
       "Df Residuals:                  133080   BIC:                         6.691e+05\n",
       "Df Model:                           1                                         \n",
       "Covariance Type:            nonrobust                                         \n",
       "==============================================================================\n",
       "                 coef    std err          t      P>|t|      [95.0% Conf. Int.]\n",
       "------------------------------------------------------------------------------\n",
       "Intercept     19.6989      0.024    832.858      0.000        19.653    19.745\n",
       "cNum          -0.2644      0.001   -195.113      0.000        -0.267    -0.262\n",
       "==============================================================================\n",
       "Omnibus:                     9361.227   Durbin-Watson:                   0.012\n",
       "Prob(Omnibus):                  0.000   Jarque-Bera (JB):             4528.469\n",
       "Skew:                           0.273   Prob(JB):                         0.00\n",
       "Kurtosis:                       2.279   Cond. No.                         50.5\n",
       "==============================================================================\n",
       "\n",
       "Warnings:\n",
       "[1] Standard Errors assume that the covariance matrix of the errors is correctly specified.\n",
       "\"\"\""
      ]
     },
     "execution_count": 21,
     "metadata": {},
     "output_type": "execute_result"
    }
   ],
   "source": [
    "vlr = vlr.dropna(axis=0, how='any')\n",
    "ana1 = ols('avgV ~ cNum', vlr).fit()\n",
    "ana1.summary()"
   ]
  },
  {
   "cell_type": "code",
   "execution_count": 24,
   "metadata": {
    "collapsed": false
   },
   "outputs": [
    {
     "data": {
      "text/plain": [
       "<matplotlib.axes._subplots.AxesSubplot at 0xa795a6cc>"
      ]
     },
     "execution_count": 24,
     "metadata": {},
     "output_type": "execute_result"
    },
    {
     "data": {
      "image/png": "[encoded data removed]",
      "text/plain": [
       "<matplotlib.figure.Figure at 0xaa8f262c>"
      ]
     },
     "metadata": {},
     "output_type": "display_data"
    }
   ],
   "source": [
    "vlr['Pred'] = ana1.predict(vlr)\n",
    "vlr['res'] = ana1.resid\n",
    "vlr.plot('cNum', 'res',kind='scatter')"
   ]
  },
  {
   "cell_type": "code",
   "execution_count": 25,
   "metadata": {
    "collapsed": false
   },
   "outputs": [
    {
     "data": {
      "text/html": [
       "<div>\n",
       "<table border=\"1\" class=\"dataframe\">\n",
       "  <thead>\n",
       "    <tr style=\"text-align: right;\">\n",
       "      <th></th>\n",
       "      <th>Time</th>\n",
       "      <th>cNum</th>\n",
       "      <th>V</th>\n",
       "      <th>weekend</th>\n",
       "      <th>avgV</th>\n",
       "      <th>hh</th>\n",
       "      <th>wk</th>\n",
       "      <th>Pred</th>\n",
       "      <th>res</th>\n",
       "    </tr>\n",
       "  </thead>\n",
       "  <tbody>\n",
       "    <tr>\n",
       "      <th>0</th>\n",
       "      <td>0</td>\n",
       "      <td>15</td>\n",
       "      <td>12</td>\n",
       "      <td>0</td>\n",
       "      <td>18.742605</td>\n",
       "      <td>0</td>\n",
       "      <td>0</td>\n",
       "      <td>15.733561</td>\n",
       "      <td>3.009044</td>\n",
       "    </tr>\n",
       "    <tr>\n",
       "      <th>1</th>\n",
       "      <td>0</td>\n",
       "      <td>15</td>\n",
       "      <td>18</td>\n",
       "      <td>0</td>\n",
       "      <td>18.742605</td>\n",
       "      <td>0</td>\n",
       "      <td>0</td>\n",
       "      <td>15.733561</td>\n",
       "      <td>3.009044</td>\n",
       "    </tr>\n",
       "    <tr>\n",
       "      <th>2</th>\n",
       "      <td>0</td>\n",
       "      <td>15</td>\n",
       "      <td>20</td>\n",
       "      <td>0</td>\n",
       "      <td>18.742605</td>\n",
       "      <td>0</td>\n",
       "      <td>0</td>\n",
       "      <td>15.733561</td>\n",
       "      <td>3.009044</td>\n",
       "    </tr>\n",
       "    <tr>\n",
       "      <th>3</th>\n",
       "      <td>0</td>\n",
       "      <td>15</td>\n",
       "      <td>21</td>\n",
       "      <td>0</td>\n",
       "      <td>18.742605</td>\n",
       "      <td>0</td>\n",
       "      <td>0</td>\n",
       "      <td>15.733561</td>\n",
       "      <td>3.009044</td>\n",
       "    </tr>\n",
       "    <tr>\n",
       "      <th>4</th>\n",
       "      <td>0</td>\n",
       "      <td>15</td>\n",
       "      <td>24</td>\n",
       "      <td>0</td>\n",
       "      <td>18.742605</td>\n",
       "      <td>0</td>\n",
       "      <td>0</td>\n",
       "      <td>15.733561</td>\n",
       "      <td>3.009044</td>\n",
       "    </tr>\n",
       "  </tbody>\n",
       "</table>\n",
       "</div>"
      ],
      "text/plain": [
       "   Time  cNum   V  weekend       avgV hh wk       Pred       res\n",
       "0     0    15  12        0  18.742605  0  0  15.733561  3.009044\n",
       "1     0    15  18        0  18.742605  0  0  15.733561  3.009044\n",
       "2     0    15  20        0  18.742605  0  0  15.733561  3.009044\n",
       "3     0    15  21        0  18.742605  0  0  15.733561  3.009044\n",
       "4     0    15  24        0  18.742605  0  0  15.733561  3.009044"
      ]
     },
     "execution_count": 25,
     "metadata": {},
     "output_type": "execute_result"
    }
   ],
   "source": [
    "vlr.head()"
   ]
  },
  {
   "cell_type": "markdown",
   "metadata": {},
   "source": [
    "#### 多重共线性分析"
   ]
  },
  {
   "cell_type": "code",
   "execution_count": 30,
   "metadata": {
    "collapsed": false,
    "scrolled": true
   },
   "outputs": [
    {
     "data": {
      "text/plain": [
       "Index([u'Time', u'cNum', u'V', u'weekend', u'avgV', u'hh', u'wk', u'Pred',\n",
       "       u'res'],\n",
       "      dtype='object')"
      ]
     },
     "execution_count": 30,
     "metadata": {},
     "output_type": "execute_result"
    }
   ],
   "source": [
    "vlr.columns"
   ]
  },
  {
   "cell_type": "code",
   "execution_count": 25,
   "metadata": {
    "collapsed": false
   },
   "outputs": [
    {
     "name": "stdout",
     "output_type": "stream",
     "text": [
      "                            OLS Regression Results                            \n",
      "==============================================================================\n",
      "Dep. Variable:                   avgV   R-squared:                       0.876\n",
      "Model:                            OLS   Adj. R-squared:                  0.876\n",
      "Method:                 Least Squares   F-statistic:                 1.916e+04\n",
      "Date:                Thu, 26 Jan 2017   Prob (F-statistic):               0.00\n",
      "Time:                        21:36:13   Log-Likelihood:            -2.1244e+05\n",
      "No. Observations:              133082   AIC:                         4.250e+05\n",
      "Df Residuals:                  133032   BIC:                         4.255e+05\n",
      "Df Model:                          49                                         \n",
      "Covariance Type:            nonrobust                                         \n",
      "=================================================================================\n",
      "                    coef    std err          t      P>|t|      [95.0% Conf. Int.]\n",
      "---------------------------------------------------------------------------------\n",
      "Intercept        19.4471      0.062    315.997      0.000        19.326    19.568\n",
      "hh[T.1]          -0.5142      0.085     -6.029      0.000        -0.681    -0.347\n",
      "hh[T.2]          -1.4521      0.088    -16.580      0.000        -1.624    -1.280\n",
      "hh[T.3]          -1.1151      0.090    -12.377      0.000        -1.292    -0.939\n",
      "hh[T.4]          -0.1102      0.090     -1.218      0.223        -0.287     0.067\n",
      "hh[T.5]           3.1530      0.090     35.199      0.000         2.977     3.329\n",
      "hh[T.6]           0.2733      0.087      3.139      0.002         0.103     0.444\n",
      "hh[T.7]          -1.6721      0.082    -20.327      0.000        -1.833    -1.511\n",
      "hh[T.8]          -4.2069      0.083    -50.752      0.000        -4.369    -4.044\n",
      "hh[T.9]          -5.5761      0.084    -66.215      0.000        -5.741    -5.411\n",
      "hh[T.10]         -5.7396      0.085    -67.435      0.000        -5.906    -5.573\n",
      "hh[T.11]         -7.5306      0.086    -87.668      0.000        -7.699    -7.362\n",
      "hh[T.12]         -6.4065      0.086    -74.426      0.000        -6.575    -6.238\n",
      "hh[T.13]         -5.5998      0.088    -63.875      0.000        -5.772    -5.428\n",
      "hh[T.14]         -6.6091      0.083    -79.835      0.000        -6.771    -6.447\n",
      "hh[T.15]         -7.7429      0.080    -96.768      0.000        -7.900    -7.586\n",
      "hh[T.16]         -7.7042      0.086    -89.089      0.000        -7.874    -7.535\n",
      "hh[T.17]         -7.6811      0.087    -88.054      0.000        -7.852    -7.510\n",
      "hh[T.18]         -6.5042      0.079    -81.895      0.000        -6.660    -6.349\n",
      "hh[T.19]         -4.6223      0.090    -51.491      0.000        -4.798    -4.446\n",
      "hh[T.20]         -2.5456      0.084    -30.241      0.000        -2.711    -2.381\n",
      "hh[T.21]         -1.1836      0.084    -14.170      0.000        -1.347    -1.020\n",
      "hh[T.22]         -0.2727      0.084     -3.229      0.001        -0.438    -0.107\n",
      "hh[T.23]         -0.3201      0.090     -3.575      0.000        -0.496    -0.145\n",
      "wk[T.1]           0.4747      0.008     58.502      0.000         0.459     0.491\n",
      "cNum             -0.0347      0.004     -9.573      0.000        -0.042    -0.028\n",
      "cNum:hh[T.1]     -0.0047      0.005     -0.888      0.374        -0.015     0.006\n",
      "cNum:hh[T.2]      0.0988      0.006     16.354      0.000         0.087     0.111\n",
      "cNum:hh[T.3]      0.0629      0.008      8.333      0.000         0.048     0.078\n",
      "cNum:hh[T.4]     -0.1350      0.009    -15.316      0.000        -0.152    -0.118\n",
      "cNum:hh[T.5]     -0.3399      0.009    -36.819      0.000        -0.358    -0.322\n",
      "cNum:hh[T.6]     -0.0182      0.008     -2.291      0.022        -0.034    -0.003\n",
      "cNum:hh[T.7]     -0.0526      0.006     -9.503      0.000        -0.063    -0.042\n",
      "cNum:hh[T.8]     -0.0246      0.005     -4.864      0.000        -0.035    -0.015\n",
      "cNum:hh[T.9]      0.0067      0.005      1.310      0.190        -0.003     0.017\n",
      "cNum:hh[T.10]    -0.0113      0.005     -2.287      0.022        -0.021    -0.002\n",
      "cNum:hh[T.11]     0.0390      0.005      8.338      0.000         0.030     0.048\n",
      "cNum:hh[T.12]     0.0310      0.005      6.336      0.000         0.021     0.041\n",
      "cNum:hh[T.13]    -0.0014      0.005     -0.288      0.773        -0.011     0.008\n",
      "cNum:hh[T.14]    -0.0033      0.004     -0.748      0.455        -0.012     0.005\n",
      "cNum:hh[T.15]     0.0092      0.004      2.207      0.027         0.001     0.017\n",
      "cNum:hh[T.16]     0.0266      0.005      5.612      0.000         0.017     0.036\n",
      "cNum:hh[T.17]    -0.0014      0.005     -0.290      0.772        -0.011     0.008\n",
      "cNum:hh[T.18]     0.0026      0.005      0.556      0.578        -0.007     0.012\n",
      "cNum:hh[T.19]     0.0770      0.006     12.144      0.000         0.065     0.089\n",
      "cNum:hh[T.20]     0.0839      0.005     15.479      0.000         0.073     0.095\n",
      "cNum:hh[T.21]     0.0304      0.005      6.011      0.000         0.020     0.040\n",
      "cNum:hh[T.22]     0.0218      0.005      4.440      0.000         0.012     0.031\n",
      "cNum:hh[T.23]     0.0634      0.005     11.955      0.000         0.053     0.074\n",
      "V                 0.0021      0.000     10.230      0.000         0.002     0.003\n",
      "==============================================================================\n",
      "Omnibus:                     7542.163   Durbin-Watson:                   0.008\n",
      "Prob(Omnibus):                  0.000   Jarque-Bera (JB):            31169.578\n",
      "Skew:                          -0.087   Prob(JB):                         0.00\n",
      "Kurtosis:                       5.365   Cond. No.                     3.17e+03\n",
      "==============================================================================\n",
      "\n",
      "Warnings:\n",
      "[1] Standard Errors assume that the covariance matrix of the errors is correctly specified.\n",
      "[2] The condition number is large, 3.17e+03. This might indicate that there are\n",
      "strong multicollinearity or other numerical problems.\n",
      "1.42643694876\n"
     ]
    }
   ],
   "source": [
    "ana5 = ols('avgV ~ hh + cNum + V + wk + cNum*hh', vlr).fit()\n",
    "print ana5.summary()\n",
    "print ana5.mse_resid"
   ]
  },
  {
   "cell_type": "code",
   "execution_count": 28,
   "metadata": {
    "collapsed": false
   },
   "outputs": [
    {
     "name": "stdout",
     "output_type": "stream",
     "text": [
      "          cNum         V\n",
      "cNum  1.000000 -0.099276\n",
      "V    -0.099276  1.000000\n"
     ]
    }
   ],
   "source": [
    "print vlr[['cNum', 'V']].corr()"
   ]
  },
  {
   "cell_type": "code",
   "execution_count": 29,
   "metadata": {
    "collapsed": false
   },
   "outputs": [
    {
     "name": "stdout",
     "output_type": "stream",
     "text": [
      "2.524479294\n",
      "2.524479294\n"
     ]
    }
   ],
   "source": [
    "#方差膨胀因子\n",
    "import numpy as np\n",
    "from statsmodels.stats.outliers_influence import variance_inflation_factor\n",
    "\n",
    "vif_exog = np.array(vlr[['cNum','V']])\n",
    "for i in range(2):\n",
    "    print variance_inflation_factor(vif_exog, i)"
   ]
  },
  {
   "cell_type": "markdown",
   "metadata": {},
   "source": [
    "### E. DBSCAN"
   ]
  },
  {
   "cell_type": "markdown",
   "metadata": {},
   "source": [
    "#### DBSCAN坐标聚类"
   ]
  },
  {
   "cell_type": "code",
   "execution_count": 1,
   "metadata": {
    "collapsed": false,
    "scrolled": true
   },
   "outputs": [],
   "source": [
    "#2维的坐标数据：\n",
    "import pandas as pd, numpy as np, matplotlib.pyplot as plt, time\n",
    "from sklearn.cluster import DBSCAN\n",
    "from sklearn import metrics\n",
    "from geopy.distance import great_circle\n",
    "from shapely.geometry import MultiPoint\n",
    "%matplotlib inline"
   ]
  },
  {
   "cell_type": "code",
   "execution_count": 2,
   "metadata": {
    "collapsed": true
   },
   "outputs": [],
   "source": [
    "# 每个弧度的地球球面距离\n",
    "kms_per_radian = 6371.0088"
   ]
  },
  {
   "cell_type": "code",
   "execution_count": 36,
   "metadata": {
    "collapsed": false
   },
   "outputs": [
    {
     "name": "stdout",
     "output_type": "stream",
     "text": [
      "          lon        lat\n",
      "0  114.050230  22.602966\n",
      "1  114.040820  22.524366\n",
      "2  113.903450  22.561533\n",
      "3  113.875084  22.552717\n",
      "4  113.894066  22.584917\n",
      "             lon        lat\n",
      "9995  114.010400  22.536850\n",
      "9996  114.114900  22.589933\n",
      "9997  114.107185  22.573683\n",
      "9998  113.892260  22.565890\n",
      "9999  114.024216  22.531317\n"
     ]
    }
   ],
   "source": [
    "df0 = pd.read_csv('/mnt/hgfs/share/Final/I.FINAL-taxi/D.DBSCAN聚类上下车点/tdb0_1w.csv', names=['lon', 'lat'], encoding='utf-8')\n",
    "df1 = pd.read_csv('/mnt/hgfs/share/Final/I.FINAL-taxi/D.DBSCAN聚类上下车点/tdb1_1w.csv', names=['lon', 'lat'], encoding='utf-8')\n",
    "\n",
    "print df0.head()\n",
    "print df1.tail()"
   ]
  },
  {
   "cell_type": "code",
   "execution_count": 37,
   "metadata": {
    "collapsed": false
   },
   "outputs": [],
   "source": [
    "coords0 = df0.as_matrix(columns=['lon', 'lat'])\n",
    "coords1 = df1.as_matrix(columns=['lon', 'lat'])"
   ]
  },
  {
   "cell_type": "markdown",
   "metadata": {},
   "source": [
    "### 计算DBSCAN\n",
    "\n",
    "  - `eps` 每个点的计算半径\n",
    "  - `min_samples` 是最小的样本大小"
   ]
  },
  {
   "cell_type": "code",
   "execution_count": 47,
   "metadata": {
    "collapsed": false
   },
   "outputs": [],
   "source": [
    "# 半径设为0.2KM, 转化为弧度\n",
    "epsilon = 0.2 / kms_per_radian"
   ]
  },
  {
   "cell_type": "markdown",
   "metadata": {},
   "source": [
    "#### 下车点的DBSCAN聚类模型"
   ]
  },
  {
   "cell_type": "code",
   "execution_count": 18,
   "metadata": {
    "collapsed": false,
    "scrolled": false
   },
   "outputs": [
    {
     "name": "stdout",
     "output_type": "stream",
     "text": [
      "Clustered 10,000 points down to 6 clusters, for 99.9% compression in 2.03 seconds\n",
      "Silhouette coefficient: 0.041\n"
     ]
    }
   ],
   "source": [
    "start_time = time.time()\n",
    "db0 = DBSCAN(eps=epsilon, min_samples=100, algorithm='ball_tree', metric='haversine').fit(np.radians(coords0))\n",
    "cluster_labels0 = db0.labels_\n",
    "\n",
    "# 簇数目\n",
    "num_clusters0 = len(set(cluster_labels0))\n",
    "\n",
    "# 打印结果\n",
    "message = 'Clustered {:,} points down to {:,} clusters, for {:.1f}% compression in {:,.2f} seconds'\n",
    "print(message.format(len(df0), num_clusters0, 100*(1 - float(num_clusters0) / len(df0)), time.time()-start_time))\n",
    "print('Silhouette coefficient: {:0.03f}'.format(metrics.silhouette_score(coords0, cluster_labels0)))"
   ]
  },
  {
   "cell_type": "code",
   "execution_count": 22,
   "metadata": {
    "collapsed": false,
    "scrolled": true
   },
   "outputs": [
    {
     "data": {
      "text/plain": [
       "0    [[114.04082, 22.524366], [114.091286, 22.54716...\n",
       "1    [[113.894066, 22.584917], [113.89553, 22.56638...\n",
       "2    [[113.92337, 22.522432], [113.918816, 22.52833...\n",
       "3    [[114.02333, 22.527884], [114.020134, 22.54156...\n",
       "4    [[113.81617, 22.647066], [113.81478, 22.649418...\n",
       "dtype: object"
      ]
     },
     "execution_count": 22,
     "metadata": {},
     "output_type": "execute_result"
    }
   ],
   "source": [
    "# 把簇转化为Pandas Serie \n",
    "clusters0 = pd.Series([coords0[cluster_labels0==n] for n in range(num_clusters0)])[:-1]\n",
    "clusters0"
   ]
  },
  {
   "cell_type": "code",
   "execution_count": 24,
   "metadata": {
    "collapsed": false
   },
   "outputs": [
    {
     "data": {
      "text/plain": [
       "DBSCAN(algorithm='ball_tree', eps=7.84805068861e-05, leaf_size=30,\n",
       "    metric='haversine', min_samples=100, p=None, random_state=None)"
      ]
     },
     "execution_count": 24,
     "metadata": {},
     "output_type": "execute_result"
    }
   ],
   "source": [
    "db0"
   ]
  },
  {
   "cell_type": "markdown",
   "metadata": {},
   "source": [
    "#### 上车点的DBSCAN聚类模型"
   ]
  },
  {
   "cell_type": "code",
   "execution_count": 50,
   "metadata": {
    "collapsed": false,
    "scrolled": true
   },
   "outputs": [
    {
     "name": "stdout",
     "output_type": "stream",
     "text": [
      "Clustered 10,000 points down to 13 clusters, for 99.9% compression in 1.60 seconds\n",
      "Silhouette coefficient: -0.235\n"
     ]
    }
   ],
   "source": [
    "start_time = time.time()\n",
    "db1 = DBSCAN(eps=epsilon, min_samples=60, algorithm='ball_tree', metric='haversine').fit(np.radians(coords1))\n",
    "cluster_labels1 = db1.labels_\n",
    "\n",
    "# 簇数目\n",
    "num_clusters1 = len(set(cluster_labels1))\n",
    "\n",
    "# 打印结果\n",
    "message = 'Clustered {:,} points down to {:,} clusters, for {:.1f}% compression in {:,.2f} seconds'\n",
    "print(message.format(len(df1), num_clusters1, 100*(1 - float(num_clusters1) / len(df1)), time.time()-start_time))\n",
    "print('Silhouette coefficient: {:0.03f}'.format(metrics.silhouette_score(coords1, cluster_labels1)))"
   ]
  },
  {
   "cell_type": "code",
   "execution_count": 53,
   "metadata": {
    "collapsed": false,
    "scrolled": true
   },
   "outputs": [
    {
     "data": {
      "text/plain": [
       "0     [[113.81648, 22.646784], [113.81602, 22.646982...\n",
       "1     [[114.06786, 22.523867], [114.06765, 22.523884...\n",
       "2     [[114.12965, 22.547684], [114.11075, 22.544617...\n",
       "3     [[114.04795, 22.53745], [114.04775, 22.537733]...\n",
       "4     [[114.08305, 22.554182], [114.0844, 22.545668]...\n",
       "5     [[114.09035, 22.543367], [114.09237, 22.54325]...\n",
       "6     [[114.077065, 22.536533], [114.0792, 22.538883...\n",
       "7     [[114.0593, 22.520067], [114.05957, 22.5315], ...\n",
       "8     [[114.0631, 22.53985], [114.06398, 22.532316],...\n",
       "9     [[114.056, 22.537867], [114.05808, 22.535982],...\n",
       "10    [[114.10402, 22.556], [114.10345, 22.5529], [1...\n",
       "11    [[114.1012, 22.547567], [114.09938, 22.5423], ...\n",
       "dtype: object"
      ]
     },
     "execution_count": 53,
     "metadata": {},
     "output_type": "execute_result"
    }
   ],
   "source": [
    "# 把簇转化为Pandas Serie \n",
    "clusters1 = pd.Series([coords1[cluster_labels1==n] for n in range(num_clusters1)])[:-1]\n",
    "clusters1"
   ]
  },
  {
   "cell_type": "code",
   "execution_count": 52,
   "metadata": {
    "collapsed": false
   },
   "outputs": [
    {
     "data": {
      "text/plain": [
       "DBSCAN(algorithm='ball_tree', eps=3.13922027545e-05, leaf_size=30,\n",
       "    metric='haversine', min_samples=60, p=None, random_state=None)"
      ]
     },
     "execution_count": 52,
     "metadata": {},
     "output_type": "execute_result"
    }
   ],
   "source": [
    "db1"
   ]
  },
  {
   "cell_type": "markdown",
   "metadata": {
    "collapsed": true
   },
   "source": [
    "### 找出每个簇中离中心点最近的点"
   ]
  },
  {
   "cell_type": "code",
   "execution_count": 54,
   "metadata": {
    "collapsed": false
   },
   "outputs": [],
   "source": [
    "def get_centermost_point(cluster):\n",
    "    if len(cluster) != 0:\n",
    "        centroid = (MultiPoint(cluster).centroid.x, MultiPoint(cluster).centroid.y)\n",
    "        centermost_point = min(cluster, key=lambda point: great_circle(point, centroid).m)\n",
    "        return tuple(centermost_point)"
   ]
  },
  {
   "cell_type": "markdown",
   "metadata": {},
   "source": [
    "#### 下车点的中心点"
   ]
  },
  {
   "cell_type": "code",
   "execution_count": 26,
   "metadata": {
    "collapsed": false,
    "scrolled": true
   },
   "outputs": [
    {
     "data": {
      "text/plain": [
       "0     (114.09123, 22.546967)\n",
       "1      (113.8949, 22.568233)\n",
       "2    (113.921486, 22.526684)\n",
       "3    (114.022415, 22.534582)\n",
       "4      (113.81596, 22.64865)\n",
       "dtype: object"
      ]
     },
     "execution_count": 26,
     "metadata": {},
     "output_type": "execute_result"
    }
   ],
   "source": [
    "centermost_points0 = clusters0.map(get_centermost_point)\n",
    "centermost_points0"
   ]
  },
  {
   "cell_type": "code",
   "execution_count": 28,
   "metadata": {
    "collapsed": false,
    "scrolled": true
   },
   "outputs": [
    {
     "data": {
      "text/html": [
       "<div>\n",
       "<table border=\"1\" class=\"dataframe\">\n",
       "  <thead>\n",
       "    <tr style=\"text-align: right;\">\n",
       "      <th></th>\n",
       "      <th>lat</th>\n",
       "      <th>lon</th>\n",
       "    </tr>\n",
       "  </thead>\n",
       "  <tbody>\n",
       "    <tr>\n",
       "      <th>0</th>\n",
       "      <td>22.546967</td>\n",
       "      <td>114.091230</td>\n",
       "    </tr>\n",
       "    <tr>\n",
       "      <th>1</th>\n",
       "      <td>22.568233</td>\n",
       "      <td>113.894900</td>\n",
       "    </tr>\n",
       "    <tr>\n",
       "      <th>2</th>\n",
       "      <td>22.526684</td>\n",
       "      <td>113.921486</td>\n",
       "    </tr>\n",
       "    <tr>\n",
       "      <th>3</th>\n",
       "      <td>22.534582</td>\n",
       "      <td>114.022415</td>\n",
       "    </tr>\n",
       "    <tr>\n",
       "      <th>4</th>\n",
       "      <td>22.648650</td>\n",
       "      <td>113.815960</td>\n",
       "    </tr>\n",
       "  </tbody>\n",
       "</table>\n",
       "</div>"
      ],
      "text/plain": [
       "         lat         lon\n",
       "0  22.546967  114.091230\n",
       "1  22.568233  113.894900\n",
       "2  22.526684  113.921486\n",
       "3  22.534582  114.022415\n",
       "4  22.648650  113.815960"
      ]
     },
     "execution_count": 28,
     "metadata": {},
     "output_type": "execute_result"
    }
   ],
   "source": [
    "# unzip最近中心点的list (lat, lon) 的tuple到分开的list\n",
    "lons0, lats0 = zip(*centermost_points0)\n",
    "\n",
    "# 创建一个新的df来保存每一个簇的代表点\n",
    "rep_points0 = pd.DataFrame({'lon':lons0, 'lat':lats0})\n",
    "rep_points0"
   ]
  },
  {
   "cell_type": "code",
   "execution_count": 30,
   "metadata": {
    "collapsed": false,
    "scrolled": true
   },
   "outputs": [
    {
     "data": {
      "text/html": [
       "<div>\n",
       "<table border=\"1\" class=\"dataframe\">\n",
       "  <thead>\n",
       "    <tr style=\"text-align: right;\">\n",
       "      <th></th>\n",
       "      <th>lon</th>\n",
       "      <th>lat</th>\n",
       "    </tr>\n",
       "  </thead>\n",
       "  <tbody>\n",
       "    <tr>\n",
       "      <th>0</th>\n",
       "      <td>114.091230</td>\n",
       "      <td>22.546967</td>\n",
       "    </tr>\n",
       "    <tr>\n",
       "      <th>1</th>\n",
       "      <td>113.894900</td>\n",
       "      <td>22.568233</td>\n",
       "    </tr>\n",
       "    <tr>\n",
       "      <th>2</th>\n",
       "      <td>113.921486</td>\n",
       "      <td>22.526684</td>\n",
       "    </tr>\n",
       "    <tr>\n",
       "      <th>3</th>\n",
       "      <td>114.022415</td>\n",
       "      <td>22.534582</td>\n",
       "    </tr>\n",
       "    <tr>\n",
       "      <th>4</th>\n",
       "      <td>113.815960</td>\n",
       "      <td>22.648650</td>\n",
       "    </tr>\n",
       "  </tbody>\n",
       "</table>\n",
       "</div>"
      ],
      "text/plain": [
       "          lon        lat\n",
       "0  114.091230  22.546967\n",
       "1  113.894900  22.568233\n",
       "2  113.921486  22.526684\n",
       "3  114.022415  22.534582\n",
       "4  113.815960  22.648650"
      ]
     },
     "execution_count": 30,
     "metadata": {},
     "output_type": "execute_result"
    }
   ],
   "source": [
    "# 从原始的数据集提出经纬度和代表点的经纬度相匹配的row，以获取原始数据集里更详细的信息\n",
    "rs0 = rep_points0.apply(lambda row: df0[(df0['lat']==row['lat']) & (df0['lon']==row['lon'])].iloc[0], axis=1)\n",
    "rs0.to_csv('db0_centroids.csv', encoding='utf-8')\n",
    "rs0"
   ]
  },
  {
   "cell_type": "code",
   "execution_count": 33,
   "metadata": {
    "collapsed": false
   },
   "outputs": [
    {
     "data": {
      "image/png": "[encoded data removed]",
      "text/plain": [
       "<matplotlib.figure.Figure at 0xa9e757ec>"
      ]
     },
     "metadata": {},
     "output_type": "display_data"
    }
   ],
   "source": [
    "# 图示聚类结果和原始点的对比\n",
    "rs_scatter0 = ax.scatter(rs0['lon'], rs0['lat'], c='#99cc99', edgecolor='None', alpha=0.7, s=120)\n",
    "df_scatter0 = ax.scatter(df0['lon'], df0['lat'], c='k', alpha=0.9, s=3)\n",
    "ax.set_title('Full data set vs DBSCAN reduced set')\n",
    "ax.set_xlabel('Longitude')\n",
    "ax.set_ylabel('Latitude')\n",
    "ax.legend([df_scatter0, rs_scatter0], ['Full set', 'Reduced set'], loc='upper right')\n",
    "plt.show()"
   ]
  },
  {
   "cell_type": "markdown",
   "metadata": {},
   "source": [
    "#### 上车点的中心点"
   ]
  },
  {
   "cell_type": "code",
   "execution_count": 55,
   "metadata": {
    "collapsed": false,
    "scrolled": true
   },
   "outputs": [
    {
     "data": {
      "text/plain": [
       "0      (113.81568, 22.648533)\n",
       "1      (114.06778, 22.524233)\n",
       "2        (114.116, 22.543234)\n",
       "3      (114.04869, 22.537447)\n",
       "4      (114.08225, 22.545834)\n",
       "5      (114.09098, 22.543266)\n",
       "6       (114.0779, 22.536734)\n",
       "7     (114.060135, 22.523684)\n",
       "8      (114.06327, 22.535816)\n",
       "9      (114.05658, 22.537117)\n",
       "10    (114.104515, 22.553482)\n",
       "11      (114.100784, 22.5442)\n",
       "dtype: object"
      ]
     },
     "execution_count": 55,
     "metadata": {},
     "output_type": "execute_result"
    }
   ],
   "source": [
    "centermost_points1 = clusters1.map(get_centermost_point)\n",
    "centermost_points1"
   ]
  },
  {
   "cell_type": "code",
   "execution_count": 56,
   "metadata": {
    "collapsed": false,
    "scrolled": true
   },
   "outputs": [
    {
     "data": {
      "text/html": [
       "<div>\n",
       "<table border=\"1\" class=\"dataframe\">\n",
       "  <thead>\n",
       "    <tr style=\"text-align: right;\">\n",
       "      <th></th>\n",
       "      <th>lat</th>\n",
       "      <th>lon</th>\n",
       "    </tr>\n",
       "  </thead>\n",
       "  <tbody>\n",
       "    <tr>\n",
       "      <th>0</th>\n",
       "      <td>22.648533</td>\n",
       "      <td>113.815680</td>\n",
       "    </tr>\n",
       "    <tr>\n",
       "      <th>1</th>\n",
       "      <td>22.524233</td>\n",
       "      <td>114.067780</td>\n",
       "    </tr>\n",
       "    <tr>\n",
       "      <th>2</th>\n",
       "      <td>22.543234</td>\n",
       "      <td>114.116000</td>\n",
       "    </tr>\n",
       "    <tr>\n",
       "      <th>3</th>\n",
       "      <td>22.537447</td>\n",
       "      <td>114.048690</td>\n",
       "    </tr>\n",
       "    <tr>\n",
       "      <th>4</th>\n",
       "      <td>22.545834</td>\n",
       "      <td>114.082250</td>\n",
       "    </tr>\n",
       "    <tr>\n",
       "      <th>5</th>\n",
       "      <td>22.543266</td>\n",
       "      <td>114.090980</td>\n",
       "    </tr>\n",
       "    <tr>\n",
       "      <th>6</th>\n",
       "      <td>22.536734</td>\n",
       "      <td>114.077900</td>\n",
       "    </tr>\n",
       "    <tr>\n",
       "      <th>7</th>\n",
       "      <td>22.523684</td>\n",
       "      <td>114.060135</td>\n",
       "    </tr>\n",
       "    <tr>\n",
       "      <th>8</th>\n",
       "      <td>22.535816</td>\n",
       "      <td>114.063270</td>\n",
       "    </tr>\n",
       "    <tr>\n",
       "      <th>9</th>\n",
       "      <td>22.537117</td>\n",
       "      <td>114.056580</td>\n",
       "    </tr>\n",
       "    <tr>\n",
       "      <th>10</th>\n",
       "      <td>22.553482</td>\n",
       "      <td>114.104515</td>\n",
       "    </tr>\n",
       "    <tr>\n",
       "      <th>11</th>\n",
       "      <td>22.544200</td>\n",
       "      <td>114.100784</td>\n",
       "    </tr>\n",
       "  </tbody>\n",
       "</table>\n",
       "</div>"
      ],
      "text/plain": [
       "          lat         lon\n",
       "0   22.648533  113.815680\n",
       "1   22.524233  114.067780\n",
       "2   22.543234  114.116000\n",
       "3   22.537447  114.048690\n",
       "4   22.545834  114.082250\n",
       "5   22.543266  114.090980\n",
       "6   22.536734  114.077900\n",
       "7   22.523684  114.060135\n",
       "8   22.535816  114.063270\n",
       "9   22.537117  114.056580\n",
       "10  22.553482  114.104515\n",
       "11  22.544200  114.100784"
      ]
     },
     "execution_count": 56,
     "metadata": {},
     "output_type": "execute_result"
    }
   ],
   "source": [
    "lons1, lats1 = zip(*centermost_points1)\n",
    "\n",
    "# 创建一个新的数据框来保存每一个簇的代表点\n",
    "rep_points1 = pd.DataFrame({'lon':lons1, 'lat':lats1})\n",
    "rep_points1"
   ]
  },
  {
   "cell_type": "code",
   "execution_count": 57,
   "metadata": {
    "collapsed": false
   },
   "outputs": [
    {
     "data": {
      "text/html": [
       "<div>\n",
       "<table border=\"1\" class=\"dataframe\">\n",
       "  <thead>\n",
       "    <tr style=\"text-align: right;\">\n",
       "      <th></th>\n",
       "      <th>lon</th>\n",
       "      <th>lat</th>\n",
       "    </tr>\n",
       "  </thead>\n",
       "  <tbody>\n",
       "    <tr>\n",
       "      <th>0</th>\n",
       "      <td>113.815680</td>\n",
       "      <td>22.648533</td>\n",
       "    </tr>\n",
       "    <tr>\n",
       "      <th>1</th>\n",
       "      <td>114.067780</td>\n",
       "      <td>22.524233</td>\n",
       "    </tr>\n",
       "    <tr>\n",
       "      <th>2</th>\n",
       "      <td>114.116000</td>\n",
       "      <td>22.543234</td>\n",
       "    </tr>\n",
       "    <tr>\n",
       "      <th>3</th>\n",
       "      <td>114.048690</td>\n",
       "      <td>22.537447</td>\n",
       "    </tr>\n",
       "    <tr>\n",
       "      <th>4</th>\n",
       "      <td>114.082250</td>\n",
       "      <td>22.545834</td>\n",
       "    </tr>\n",
       "    <tr>\n",
       "      <th>5</th>\n",
       "      <td>114.090980</td>\n",
       "      <td>22.543266</td>\n",
       "    </tr>\n",
       "    <tr>\n",
       "      <th>6</th>\n",
       "      <td>114.077900</td>\n",
       "      <td>22.536734</td>\n",
       "    </tr>\n",
       "    <tr>\n",
       "      <th>7</th>\n",
       "      <td>114.060135</td>\n",
       "      <td>22.523684</td>\n",
       "    </tr>\n",
       "    <tr>\n",
       "      <th>8</th>\n",
       "      <td>114.063270</td>\n",
       "      <td>22.535816</td>\n",
       "    </tr>\n",
       "    <tr>\n",
       "      <th>9</th>\n",
       "      <td>114.056580</td>\n",
       "      <td>22.537117</td>\n",
       "    </tr>\n",
       "    <tr>\n",
       "      <th>10</th>\n",
       "      <td>114.104515</td>\n",
       "      <td>22.553482</td>\n",
       "    </tr>\n",
       "    <tr>\n",
       "      <th>11</th>\n",
       "      <td>114.100784</td>\n",
       "      <td>22.544200</td>\n",
       "    </tr>\n",
       "  </tbody>\n",
       "</table>\n",
       "</div>"
      ],
      "text/plain": [
       "           lon        lat\n",
       "0   113.815680  22.648533\n",
       "1   114.067780  22.524233\n",
       "2   114.116000  22.543234\n",
       "3   114.048690  22.537447\n",
       "4   114.082250  22.545834\n",
       "5   114.090980  22.543266\n",
       "6   114.077900  22.536734\n",
       "7   114.060135  22.523684\n",
       "8   114.063270  22.535816\n",
       "9   114.056580  22.537117\n",
       "10  114.104515  22.553482\n",
       "11  114.100784  22.544200"
      ]
     },
     "execution_count": 57,
     "metadata": {},
     "output_type": "execute_result"
    }
   ],
   "source": [
    "rs1 = rep_points1.apply(lambda row: df1[(df1['lat']==row['lat']) & (df1['lon']==row['lon'])].iloc[0], axis=1)\n",
    "rs1.to_csv('db1_centroids.csv', encoding='utf-8')\n",
    "rs1"
   ]
  },
  {
   "cell_type": "code",
   "execution_count": 58,
   "metadata": {
    "collapsed": false
   },
   "outputs": [
    {
     "data": {
      "image/png": "[encoded data removed]",
      "text/plain": [
       "<matplotlib.figure.Figure at 0xa9ce94ec>"
      ]
     },
     "metadata": {},
     "output_type": "display_data"
    }
   ],
   "source": [
    "# 图示聚类结果和原始点的对比\n",
    "fig, ax = plt.subplots(figsize=[10, 6])\n",
    "rs_scatter1 = ax.scatter(rs1['lon'], rs1['lat'], c='#99cc99', edgecolor='None', alpha=0.7, s=120)\n",
    "df_scatter1 = ax.scatter(df1['lon'], df1['lat'], c='k', alpha=0.9, s=3)\n",
    "ax.set_title('Full data set vs DBSCAN reduced set')\n",
    "ax.set_xlabel('Longitude')\n",
    "ax.set_ylabel('Latitude')\n",
    "ax.legend([df_scatter1, rs_scatter1], ['Full set', 'Reduced set'], loc='upper right')\n",
    "plt.show()"
   ]
  }
 ],
 "metadata": {
  "anaconda-cloud": {},
  "kernelspec": {
   "display_name": "Python [Root]",
   "language": "python",
   "name": "Python [Root]"
  },
  "language_info": {
   "codemirror_mode": {
    "name": "ipython",
    "version": 3
   },
   "file_extension": ".py",
   "mimetype": "text/x-python",
   "name": "python",
   "nbconvert_exporter": "python",
   "pygments_lexer": "ipython3",
   "version": "3.5.2"
  }
 },
 "nbformat": 4,
 "nbformat_minor": 1
}
